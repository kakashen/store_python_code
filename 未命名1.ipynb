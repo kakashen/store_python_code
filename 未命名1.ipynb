{
 "cells": [
  {
   "cell_type": "code",
   "execution_count": null,
   "metadata": {},
   "outputs": [],
   "source": [
    "%matplotlib inline\n",
    "import matplotlib.pyplot as plt\n",
    "import panda as pd\n",
    "import numpy as np\n",
    "\n",
    "display_colums = [\"title\",\"read_num\",\"like_num\",\"comment_num\",\"reward_num\",\"p_date\"]\n",
    "\n",
    "# 从csv文件中加载\n",
    "df = pd.read_csv(\"post.csv\")\n",
    "# 重新设置列的顺序\n",
    "df = df.reindex(columns=display_columns)\n",
    "# 将p_date的数据类型从timestamp 转换成 datetime\n",
    "df.p_date = pd.to_datetime(df['p_date'])\n"
   ]
  }
 ],
 "metadata": {
  "kernelspec": {
   "display_name": "Python 3",
   "language": "python",
   "name": "python3"
  },
  "language_info": {
   "codemirror_mode": {
    "name": "ipython",
    "version": 3
   },
   "file_extension": ".py",
   "mimetype": "text/x-python",
   "name": "python",
   "nbconvert_exporter": "python",
   "pygments_lexer": "ipython3",
   "version": "3.7.3"
  }
 },
 "nbformat": 4,
 "nbformat_minor": 2
}
